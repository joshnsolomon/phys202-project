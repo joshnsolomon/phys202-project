{
 "cells": [
  {
   "cell_type": "code",
   "execution_count": 37,
   "metadata": {
    "collapsed": true
   },
   "outputs": [],
   "source": [
    "%matplotlib inline\n",
    "import matplotlib.pyplot as plt\n",
    "import numpy as np\n",
    "from scipy import integrate"
   ]
  },
  {
   "cell_type": "markdown",
   "metadata": {
    "collapsed": false
   },
   "source": [
    "## First Neural Network"
   ]
  },
  {
   "cell_type": "markdown",
   "metadata": {},
   "source": [
    "I created a neural network that takes in a random point as an input and determines whether or not that point is above or below a specified line. I did this by creating a Perceptron class which is used as a step function neuron. I give it 2000 training points and then graph it over a grid using matplotlib and it does fairly well"
   ]
  },
  {
   "cell_type": "code",
   "execution_count": 38,
   "metadata": {
    "collapsed": false
   },
   "outputs": [],
   "source": [
    "class Perceptron(object):\n",
    "    c = .01\n",
    "    def __init__(self, n):\n",
    "        self.n = n\n",
    "        self.weights = np.zeros(n)\n",
    "        for a in range(n):\n",
    "            self.weights[a] = np.random.random()*2-1\n",
    "        \n",
    "    def feedforward(self,inputs):\n",
    "        summ = 0.0\n",
    "        for a in range(self.n):\n",
    "            summ += inputs[a]*self.weights[a]\n",
    "        if(summ>0):\n",
    "            return 1\n",
    "        else: return -1\n",
    "        \n",
    "    def train(self,inputs, desired):\n",
    "        guess = self.feedforward(inputs)\n",
    "        error = float(desired-guess)\n",
    "        for i in range(self.n):\n",
    "            self.weights[i] += self.c * error *inputs[i]\n",
    "            \n",
    "    def grapher(self,X, Y):\n",
    "        summ = X*self.weights[0] + Y*self.weights[1] + self.weights[2]\n",
    "        summ[summ < 0] = -1\n",
    "        summ[summ > 0] = 1\n",
    "        return summ"
   ]
  },
  {
   "cell_type": "code",
   "execution_count": 39,
   "metadata": {
    "collapsed": true
   },
   "outputs": [],
   "source": [
    "def answer(f,point):\n",
    "    if point[1] > f(point[0]):\n",
    "        return 1\n",
    "    else:\n",
    "        return -1"
   ]
  },
  {
   "cell_type": "code",
   "execution_count": 40,
   "metadata": {
    "collapsed": false
   },
   "outputs": [],
   "source": [
    "f = lambda x: x\n",
    "\n",
    "x = np.random.random(2000)*200 - 100\n",
    "y = np.random.random(2000)*200 - 100\n",
    "z = np.ones(2000)\n",
    "points = zip(x,y,z)\n",
    "\n",
    "p = Perceptron(3)\n",
    "for n in points:\n",
    "    p.train(n,answer(f,n))"
   ]
  },
  {
   "cell_type": "code",
   "execution_count": 41,
   "metadata": {
    "collapsed": false
   },
   "outputs": [],
   "source": [
    "xarr = np.linspace(-10,10,100)\n",
    "yarr = xarr\n",
    "X, Y = np.meshgrid(xarr, yarr)\n",
    "Z = p.grapher(X,Y)\n"
   ]
  },
  {
   "cell_type": "code",
   "execution_count": 42,
   "metadata": {
    "collapsed": false
   },
   "outputs": [
    {
     "data": {
      "text/plain": [
       "<matplotlib.collections.QuadMesh at 0x7f80f0b6de48>"
      ]
     },
     "execution_count": 42,
     "metadata": {},
     "output_type": "execute_result"
    },
    {
     "data": {
      "image/png": "[encoded data removed]",
      "text/plain": [
       "<matplotlib.figure.Figure at 0x7f80f0b4ecc0>"
      ]
     },
     "metadata": {},
     "output_type": "display_data"
    }
   ],
   "source": [
    "plt.pcolormesh(X, Y, Z) "
   ]
  }
 ],
 "metadata": {
  "kernelspec": {
   "display_name": "Python 3",
   "language": "python",
   "name": "python3"
  },
  "language_info": {
   "codemirror_mode": {
    "name": "ipython",
    "version": 3
   },
   "file_extension": ".py",
   "mimetype": "text/x-python",
   "name": "python",
   "nbconvert_exporter": "python",
   "pygments_lexer": "ipython3",
   "version": "3.4.0"
  }
 },
 "nbformat": 4,
 "nbformat_minor": 0
}
