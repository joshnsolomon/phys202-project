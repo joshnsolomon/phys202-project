{
 "cells": [
  {
   "cell_type": "code",
   "execution_count": 368,
   "metadata": {
    "collapsed": false
   },
   "outputs": [],
   "source": [
    "%matplotlib inline\n",
    "import matplotlib.pyplot as plt\n",
    "import numpy as np\n",
    "from scipy import integrate\n",
    "from IPython.html.widgets import interact"
   ]
  },
  {
   "cell_type": "code",
   "execution_count": 369,
   "metadata": {
    "collapsed": false
   },
   "outputs": [
    {
     "name": "stdout",
     "output_type": "stream",
     "text": [
      "(1797, 64)\n"
     ]
    }
   ],
   "source": [
    "from sklearn.datasets import load_digits\n",
    "digits = load_digits()\n",
    "print(digits.data.shape)"
   ]
  },
  {
   "cell_type": "markdown",
   "metadata": {
    "collapsed": false
   },
   "source": [
    "## Neural Network "
   ]
  },
  {
   "cell_type": "markdown",
   "metadata": {},
   "source": [
    "The purpose is this project is to explain the basics of neural networks and use one to read handwriting"
   ]
  },
  {
   "cell_type": "markdown",
   "metadata": {},
   "source": [
    "The Neural Network is a type of program that can trained to perform very complicated functions. It does this by creating a network of \"neurons\" that can be used to interpret informations. Below is a picture of one such neuron."
   ]
  },
  {
   "cell_type": "code",
   "execution_count": 370,
   "metadata": {
    "collapsed": false
   },
   "outputs": [
    {
     "data": {
      "image/png": "[encoded data removed]",
      "text/plain": [
       "<IPython.core.display.Image object>"
      ]
     },
     "execution_count": 370,
     "metadata": {},
     "output_type": "execute_result"
    }
   ],
   "source": [
    "Image('tikz9.png')"
   ]
  },
  {
   "cell_type": "markdown",
   "metadata": {},
   "source": [
    "Each Neuron has an input vector and weights assigned to each component as well as a bias. It then runs the sum through a Sigmoid funnction "
   ]
  },
  {
   "cell_type": "markdown",
   "metadata": {},
   "source": [
    "\\begin{align}\n",
    "\\sigma(x) = \\frac{1}{1+e^{-x}} \\\\\n",
    "Output = \\sigma(\\vec{w} \\cdot \\vec{x}+b)\n",
    "\\end{align}"
   ]
  },
  {
   "cell_type": "code",
   "execution_count": 371,
   "metadata": {
    "collapsed": false
   },
   "outputs": [
    {
     "data": {
      "image/png": "[encoded data removed]",
      "text/plain": [
       "<matplotlib.figure.Figure at 0x7f929a9627f0>"
      ]
     },
     "metadata": {},
     "output_type": "display_data"
    }
   ],
   "source": [
    "def show_digit(i):\n",
    "    plt.matshow(digits.images[i],cmap = 'Greys');\n",
    "    \n",
    "interact(show_digit, i=(0,100));"
   ]
  },
  {
   "cell_type": "code",
   "execution_count": 372,
   "metadata": {
    "collapsed": false
   },
   "outputs": [],
   "source": [
    "def sigm(z):\n",
    "    return 1/(1+np.e**(-1*z))\n",
    "sigm_vec = np.vectorize(sigm)\n",
    "\n",
    "def sigm_prime(z):\n",
    "    return sigm(z)*(1-sigm(z))\n",
    "sigm_prime_vec = np.vectorize(sigm_prime)"
   ]
  },
  {
   "cell_type": "code",
   "execution_count": 373,
   "metadata": {
    "collapsed": false
   },
   "outputs": [],
   "source": [
    "class Network(object):\n",
    "    def __init__(self, sizes):\n",
    "        np.random.seed(0)\n",
    "        self.sizes = sizes\n",
    "        self.layers = len(sizes)\n",
    "        self.biases = [np.random.randn(y, 1) for y in sizes[1:]]\n",
    "        self.weights = [np.random.randn(y, x) for x, y in zip(sizes[:-1], sizes[1:])]\n",
    "        \n",
    "    def feedforward(self,a):\n",
    "        for b, w in zip(self.biases, self.weights):\n",
    "            a = sigm_vec(np.dot(w, a) + b)\n",
    "        return a\n",
    "    \n",
    "    def SGD( self, training_data, epochs, mini_batch_size, eta):\n",
    "        np.random.seed(0)\n",
    "        n = len(training_data)\n",
    "        for j in range(epochs):\n",
    "            np.random.shuffle(training_data)\n",
    "            mini_batches = [\n",
    "                training_data[k:k+mini_batch_size]\n",
    "                for k in range(0, n, mini_batch_size)]\n",
    "            for mini_batch in mini_batches:\n",
    "                self.update_mini_batch(mini_batch, eta)\n",
    "    \n",
    "    def update_mini_batch(self, mini_batch, eta):\n",
    "        grad_b = [np.zeros(b.shape) for b in self.biases]\n",
    "        grad_w = [np.zeros(w.shape) for w in self.weights]\n",
    "        for x, y in mini_batch:\n",
    "            delta_grad_b, delta_grad_w = self.backprop(x, y)\n",
    "            grad_b = [nb+dnb for nb, dnb in zip(grad_b, delta_grad_b)]\n",
    "            grad_w = [nw+dnw for nw, dnw in zip(grad_w, delta_grad_w)]\n",
    "        self.weights = [w-(eta/len(mini_batch))*gw \n",
    "                        for w, gw in zip(self.weights, grad_w)]\n",
    "        self.biases = [b-(eta/len(mini_batch))*gb \n",
    "                       for b, gb in zip(self.biases, grad_b)]\n",
    "        \n",
    "    def backprop(self,x,y):\n",
    "        grad_b = [np.zeros(b.shape) for b in self.biases]\n",
    "        grad_w = [np.zeros(w.shape) for w in self.weights]\n",
    "        activation = x\n",
    "        activations = [x] \n",
    "        zs = [] \n",
    "        for b, w in zip(self.biases, self.weights):\n",
    "            z = np.dot(w, activation)+b\n",
    "            zs.append(z)\n",
    "            activation = sigm_vec(z)\n",
    "            activations.append(activation)\n",
    "        delta = (activations[-1] - y) * sigm_prime_vec(zs[-1])\n",
    "        grad_b[-1] = delta\n",
    "        grad_w[-1] = np.dot(delta, activations[-2].T)\n",
    "        for a in range(2, self.layers):\n",
    "            z = zs[-a]\n",
    "            spv = sigm_prime_vec(z)\n",
    "            delta = np.dot(self.weights[-a+1].T, delta) * spv\n",
    "            grad_b[-a] = delta\n",
    "            grad_w[-a] = np.dot(delta, activations[-a-1].T)\n",
    "        return (grad_b, grad_w)\n",
    "    \n"
   ]
  },
  {
   "cell_type": "code",
   "execution_count": 374,
   "metadata": {
    "collapsed": false
   },
   "outputs": [],
   "source": [
    "def vector(a):\n",
    "    v = np.array([[0.,0.,0.,0.,0.,0.,0.,0.,0.,0.]])\n",
    "    v[0][a]=1\n",
    "    return v.T\n"
   ]
  },
  {
   "cell_type": "code",
   "execution_count": 375,
   "metadata": {
    "collapsed": false
   },
   "outputs": [],
   "source": [
    "digits.target[0:700]\n",
    "training_set = [(np.array([x]).T,np.array([vectorize(y)]).T) for x, y in zip(digits.data[0:700],digits.target[0:700])]\n"
   ]
  },
  {
   "cell_type": "code",
   "execution_count": 376,
   "metadata": {
    "collapsed": false
   },
   "outputs": [],
   "source": [
    "Reader = Network([64,37,10])\n",
    "Reader.SGD(training_set,70,10,1.5)\n"
   ]
  },
  {
   "cell_type": "code",
   "execution_count": 377,
   "metadata": {
    "collapsed": false
   },
   "outputs": [
    {
     "name": "stdout",
     "output_type": "stream",
     "text": [
      "percent: 0.9123287671232877\n"
     ]
    }
   ],
   "source": [
    "right = 0\n",
    "wrong = 0\n",
    "for b in np.random.permutation(range(701,1796)):\n",
    "    a = np.array([digits.data[b]]).T\n",
    "    if digits.target[b] == np.argmax(Reader.feedforward(a)):\n",
    "        right += 1\n",
    "    else:\n",
    "        wrong +=1\n",
    "percent = (float(right)/(right+wrong))\n",
    "print('percent: '+ str(percent))\n",
    "            \n"
   ]
  }
 ],
 "metadata": {
  "kernelspec": {
   "display_name": "Python 3",
   "language": "python",
   "name": "python3"
  },
  "language_info": {
   "codemirror_mode": {
    "name": "ipython",
    "version": 3
   },
   "file_extension": ".py",
   "mimetype": "text/x-python",
   "name": "python",
   "nbconvert_exporter": "python",
   "pygments_lexer": "ipython3",
   "version": "3.4.0"
  }
 },
 "nbformat": 4,
 "nbformat_minor": 0
}
